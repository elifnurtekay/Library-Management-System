{
  "nbformat": 4,
  "nbformat_minor": 0,
  "metadata": {
    "colab": {
      "provenance": []
    },
    "kernelspec": {
      "name": "python3",
      "display_name": "Python 3"
    },
    "language_info": {
      "name": "python"
    }
  },
  "cells": [
    {
      "cell_type": "code",
      "execution_count": null,
      "metadata": {
        "id": "-3JUOotyyS8b"
      },
      "outputs": [],
      "source": [
        "#Kütüphane class\n",
        "class Library:\n",
        "\n",
        "    def __init__(self, file_name):  #txt dosyasını açmak için oluşturulan fonksiyon\n",
        "        self.file_name = file_name\n",
        "        self.file = open(self.file_name, \"a+\")\n",
        "        self.file.seek(0)  # Dosyanın başına git\n",
        "        self.books = self.file.read().splitlines()  # Satırları oku ve bir liste yap\n",
        "        self.file.seek(0, 2)  # Dosyanın sonuna git\n",
        "\n",
        "    def __del__(self):   #txt dosyasını kapatmak için oluşturulan fonksiyon\n",
        "        self.file.close()\n",
        "\n",
        "    def list_books(self):   #txt dosyasındaki kitap bilgilerini listelemek(output yazdırmak) için oluşturulan fonksiyon\n",
        "        for book in self.books:\n",
        "            title, author, year, pages = book.split(\",\")\n",
        "            print(f\"Book: {title}, Author: {author}, Year: {year}, Pages: {pages}\")\n",
        "\n",
        "    def add_book(self):    #txt dosyasındaki kitabı eklemek için oluşturulan fonksiyon\n",
        "        title = input(\"Enter book title: \")\n",
        "        author = input(\"Enter book author: \")\n",
        "        year = input(\"Enter release year: \")\n",
        "        pages = input(\"Enter number of pages: \")\n",
        "        book_info = f\"{title},{author},{year},{pages}\"\n",
        "        self.file.write(book_info + \"\\n\")\n",
        "        self.books.append(book_info)\n",
        "\n",
        "    def remove_book(self):   #txt dosyasındaki kitabı silmek için oluşturulan fonksiyon\n",
        "        title = input(\"Enter the title of the book you want to remove: \")\n",
        "        new_books = []\n",
        "        for book in self.books:\n",
        "            if not book.startswith(title):\n",
        "                new_books.append(book)\n",
        "        self.file.seek(0)\n",
        "        self.file.truncate()\n",
        "        for book in new_books:\n",
        "            self.file.write(book + \"\\n\")\n",
        "        self.books = new_books"
      ]
    },
    {
      "cell_type": "code",
      "source": [
        "# Kullanım\n",
        "library = Library(\"Books.txt\")\n",
        "library.list_books()\n",
        "library.add_book()\n",
        "library.list_books()\n",
        "library.remove_book()\n",
        "library.list_books()\n"
      ],
      "metadata": {
        "colab": {
          "base_uri": "https://localhost:8080/"
        },
        "id": "6LhyBaTn-QAi",
        "outputId": "41f958e2-bbff-4e11-d9d9-3401c65b208c"
      },
      "execution_count": null,
      "outputs": [
        {
          "output_type": "stream",
          "name": "stdout",
          "text": [
            "Enter book title: cali kusu\n",
            "Enter book author: mehmet aydin\n",
            "Enter release year: 2003\n",
            "Enter number of pages: 300\n",
            "Book: cali kusu, Author: mehmet aydin, Year: 2003, Pages: 300\n",
            "Enter the title of the book you want to remove: calıkusu\n",
            "Book: cali kusu, Author: mehmet aydin, Year: 2003, Pages: 300\n"
          ]
        }
      ]
    },
    {
      "cell_type": "code",
      "source": [
        "# Library sınıfından bir nesne oluşturalım\n",
        "lib = Library(\"Books.txt\")\n",
        "\n",
        "# Menüyü ekrana yazdıralım\n",
        "print(\"*** MENU ***\")\n",
        "print(\"1) List Books\")\n",
        "print(\"2) Add Book\")\n",
        "print(\"3) Remove Book\")\n",
        "\n",
        "# Kullanıcıdan menü seçeneğini alalım\n",
        "menu_choice = input(\"Select an option (1-3): \")\n",
        "\n",
        "# Seçime göre ilgili yöntemi çalıştıralım\n",
        "if menu_choice == \"1\":\n",
        "    lib.list_books()\n",
        "elif menu_choice == \"2\":\n",
        "    lib.add_book()\n",
        "elif menu_choice == \"3\":\n",
        "    lib.remove_book()\n",
        "else:\n",
        "    print(\"Invalid choice. Please select a valid option (1-3).\")"
      ],
      "metadata": {
        "id": "C9rz6G3UJbR2"
      },
      "execution_count": null,
      "outputs": []
    }
  ]
}